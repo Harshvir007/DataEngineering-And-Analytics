{
 "cells": [
  {
   "cell_type": "markdown",
   "id": "04edc39b",
   "metadata": {},
   "source": [
    "# Lists\n",
    "\n",
    "27th Aug 2023\n",
    "\n"
   ]
  },
  {
   "cell_type": "code",
   "execution_count": 19,
   "id": "893dcecc",
   "metadata": {},
   "outputs": [
    {
     "name": "stdout",
     "output_type": "stream",
     "text": [
      "hello\n"
     ]
    }
   ],
   "source": [
    "#List is a collections of heterogenious of data types\n",
    "\n",
    "student = ['1',1,\"harsh\",print,print(\"hello\")]\n",
    "\n",
    "#list can even store the name of the funtions such as print.\n",
    "        "
   ]
  },
  {
   "cell_type": "code",
   "execution_count": 10,
   "id": "6302005c",
   "metadata": {},
   "outputs": [
    {
     "name": "stdout",
     "output_type": "stream",
     "text": [
      "<class 'list'>\n"
     ]
    }
   ],
   "source": [
    "print(type(student))"
   ]
  },
  {
   "cell_type": "code",
   "execution_count": 11,
   "id": "f217e4f6",
   "metadata": {},
   "outputs": [
    {
     "data": {
      "text/plain": [
       "'1'"
      ]
     },
     "execution_count": 11,
     "metadata": {},
     "output_type": "execute_result"
    }
   ],
   "source": [
    "student[0]"
   ]
  },
  {
   "cell_type": "code",
   "execution_count": 13,
   "id": "14d9c947",
   "metadata": {},
   "outputs": [
    {
     "data": {
      "text/plain": [
       "<function print(*args, sep=' ', end='\\n', file=None, flush=False)>"
      ]
     },
     "execution_count": 13,
     "metadata": {},
     "output_type": "execute_result"
    }
   ],
   "source": [
    "student[3]"
   ]
  },
  {
   "cell_type": "code",
   "execution_count": 18,
   "id": "b9d6262f",
   "metadata": {},
   "outputs": [
    {
     "name": "stdout",
     "output_type": "stream",
     "text": [
      "None\n"
     ]
    }
   ],
   "source": [
    "print(student[3])"
   ]
  },
  {
   "cell_type": "code",
   "execution_count": 16,
   "id": "3fcd7728",
   "metadata": {},
   "outputs": [
    {
     "name": "stdout",
     "output_type": "stream",
     "text": [
      "<built-in function print>\n"
     ]
    }
   ],
   "source": [
    "print(student[-1])\n",
    "\n",
    "#negative indexes mean the position of subsequent element from the right side or last element"
   ]
  },
  {
   "cell_type": "code",
   "execution_count": 23,
   "id": "d9729340",
   "metadata": {},
   "outputs": [
    {
     "name": "stdout",
     "output_type": "stream",
     "text": [
      "hello\n"
     ]
    }
   ],
   "source": [
    "student[-2](\"hello\")"
   ]
  },
  {
   "cell_type": "code",
   "execution_count": 26,
   "id": "7256e1c4",
   "metadata": {},
   "outputs": [],
   "source": [
    "student[4]"
   ]
  },
  {
   "cell_type": "code",
   "execution_count": 27,
   "id": "3ec89c06",
   "metadata": {},
   "outputs": [
    {
     "name": "stdout",
     "output_type": "stream",
     "text": [
      "1 1 harsh <built-in function print> None "
     ]
    }
   ],
   "source": [
    "for i in student:\n",
    "    print(i,end=' ')"
   ]
  },
  {
   "cell_type": "code",
   "execution_count": 28,
   "id": "9eeeca07",
   "metadata": {},
   "outputs": [
    {
     "data": {
      "text/plain": [
       "['1',\n",
       " 1,\n",
       " 'harsh',\n",
       " <function print(*args, sep=' ', end='\\n', file=None, flush=False)>,\n",
       " None]"
      ]
     },
     "execution_count": 28,
     "metadata": {},
     "output_type": "execute_result"
    }
   ],
   "source": [
    "student"
   ]
  },
  {
   "cell_type": "code",
   "execution_count": 29,
   "id": "9dc304b7",
   "metadata": {},
   "outputs": [],
   "source": [
    "student.append('Hello')"
   ]
  },
  {
   "cell_type": "code",
   "execution_count": 30,
   "id": "c54c828a",
   "metadata": {},
   "outputs": [
    {
     "name": "stdout",
     "output_type": "stream",
     "text": [
      "The original list is : [1, 4, 5, 6, 7, 3, 5, 9, 2, 4]\n"
     ]
    }
   ],
   "source": [
    "test_list = [1, 4, 5, 6, 7, 3, 5, 9, 2, 4]\n",
    "\n",
    "\n",
    "split_list = [2, 5, 7]\n",
    "\n",
    "print (\"The original list is : \" + str(test_list))\n"
   ]
  },
  {
   "cell_type": "code",
   "execution_count": 31,
   "id": "fe5b0e32",
   "metadata": {},
   "outputs": [
    {
     "ename": "SyntaxError",
     "evalue": "invalid syntax (1911917929.py, line 8)",
     "output_type": "error",
     "traceback": [
      "\u001b[1;36m  Cell \u001b[1;32mIn[31], line 8\u001b[1;36m\u001b[0m\n\u001b[1;33m    else:\u001b[0m\n\u001b[1;37m    ^\u001b[0m\n\u001b[1;31mSyntaxError\u001b[0m\u001b[1;31m:\u001b[0m invalid syntax\n"
     ]
    }
   ],
   "source": [
    "def to_split(word, delimiter):\n",
    "    temp= ''\n",
    "    for i in word:\n",
    "        if i == delimiter:\n",
    "            sentence += temp\n",
    "            sentence += ' '\n",
    "            temp =''\n",
    "            else:\n",
    "                temp+"
   ]
  },
  {
   "cell_type": "code",
   "execution_count": 33,
   "id": "06643779",
   "metadata": {},
   "outputs": [
    {
     "name": "stdout",
     "output_type": "stream",
     "text": [
      "['Hello', 'world', 'this', 'is', 'a', 'test']\n"
     ]
    }
   ],
   "source": [
    "#My solution\n",
    "def custom_split(input_string, delimiter):\n",
    "    result = []\n",
    "    current_chunk = \"\"\n",
    "    \n",
    "    for char in input_string:\n",
    "        if char == delimiter:\n",
    "            result.append(current_chunk)\n",
    "            current_chunk = \"\"\n",
    "        else:\n",
    "            current_chunk += char\n",
    "    \n",
    "    result.append(current_chunk)  # Append the last chunk\n",
    "    \n",
    "    return result\n",
    "\n",
    "input_string = \"Hello,world,this,is,a,test\"\n",
    "delimiter = \",\"\n",
    "split_result = custom_split(input_string, delimiter)\n",
    "print(split_result)\n",
    "\n",
    "\n"
   ]
  },
  {
   "cell_type": "code",
   "execution_count": 34,
   "id": "a4b54503",
   "metadata": {},
   "outputs": [],
   "source": [
    "def to_split(word, delimiter):\n",
    "    temp = ''\n",
    "    sentence = []\n",
    "    for i in word:\n",
    "        if i == delimiter:\n",
    "            sentence.append(temp)\n",
    "            temp = ''\n",
    "        else:\n",
    "            temp += i\n",
    "    sentence.append(temp)\n",
    "    print(sentence)\n",
    "\n",
    "word = \"Hello,world,this,is,a,test\"\n",
    "delimiter = \",\"\n",
    "to_split(word, delimiter)"
   ]
  },
  {
   "cell_type": "code",
   "execution_count": 35,
   "id": "37976501",
   "metadata": {},
   "outputs": [
    {
     "name": "stdout",
     "output_type": "stream",
     "text": [
      "hello i am in the water here too much raining\n"
     ]
    }
   ],
   "source": [
    "to_split(\"hello i am in the water here too much raining\", _)"
   ]
  },
  {
   "cell_type": "code",
   "execution_count": 101,
   "id": "57cd8e46",
   "metadata": {},
   "outputs": [
    {
     "ename": "TypeError",
     "evalue": "can only concatenate str (not \"list\") to str",
     "output_type": "error",
     "traceback": [
      "\u001b[1;31m---------------------------------------------------------------------------\u001b[0m",
      "\u001b[1;31mTypeError\u001b[0m                                 Traceback (most recent call last)",
      "Cell \u001b[1;32mIn[101], line 1\u001b[0m\n\u001b[1;32m----> 1\u001b[0m to_split(student,\u001b[38;5;124m'\u001b[39m\u001b[38;5;124m_\u001b[39m\u001b[38;5;124m'\u001b[39m)\n",
      "Cell \u001b[1;32mIn[34], line 9\u001b[0m, in \u001b[0;36mto_split\u001b[1;34m(word, delimiter)\u001b[0m\n\u001b[0;32m      7\u001b[0m         temp \u001b[38;5;241m=\u001b[39m \u001b[38;5;124m'\u001b[39m\u001b[38;5;124m'\u001b[39m\n\u001b[0;32m      8\u001b[0m     \u001b[38;5;28;01melse\u001b[39;00m:\n\u001b[1;32m----> 9\u001b[0m         temp\u001b[38;5;241m+\u001b[39m\u001b[38;5;241m=\u001b[39mi\n\u001b[0;32m     10\u001b[0m sentence\u001b[38;5;241m.\u001b[39mappend(temp) \n\u001b[0;32m     11\u001b[0m \u001b[38;5;28mprint\u001b[39m(temp)\n",
      "\u001b[1;31mTypeError\u001b[0m: can only concatenate str (not \"list\") to str"
     ]
    }
   ],
   "source": [
    "to_split(student,'_')"
   ]
  },
  {
   "cell_type": "code",
   "execution_count": 38,
   "id": "0272fa51",
   "metadata": {},
   "outputs": [],
   "source": [
    "List1=[\"hello\",\"hi\",\"this\"]\n",
    "List1.insert(0,\"people\")"
   ]
  },
  {
   "cell_type": "code",
   "execution_count": 39,
   "id": "bf35f377",
   "metadata": {},
   "outputs": [
    {
     "data": {
      "text/plain": [
       "['people', 'hello', 'hi', 'this']"
      ]
     },
     "execution_count": 39,
     "metadata": {},
     "output_type": "execute_result"
    }
   ],
   "source": [
    "List1"
   ]
  },
  {
   "cell_type": "code",
   "execution_count": 40,
   "id": "f8d39a2d",
   "metadata": {},
   "outputs": [
    {
     "data": {
      "text/plain": [
       "'people'"
      ]
     },
     "execution_count": 40,
     "metadata": {},
     "output_type": "execute_result"
    }
   ],
   "source": [
    "List1.pop(0)"
   ]
  },
  {
   "cell_type": "code",
   "execution_count": 42,
   "id": "132e03b2",
   "metadata": {},
   "outputs": [],
   "source": [
    "#Push does not exists in python as there was already append before push, so avoiding the redundancy pop is added"
   ]
  },
  {
   "cell_type": "code",
   "execution_count": 44,
   "id": "ea689841",
   "metadata": {},
   "outputs": [],
   "source": [
    "student.pop?"
   ]
  },
  {
   "cell_type": "code",
   "execution_count": 47,
   "id": "2759adeb",
   "metadata": {},
   "outputs": [],
   "source": [
    "def to_pop(student,index):\n",
    "    var = student[index]\n",
    "    student.append(student[:index])\n",
    "    student.append(student[(index+1): -1])\n",
    "    print(student)\n",
    "    \n",
    "    student = student[-2] + student[-1]\n",
    "    print(student)\n",
    "    return var"
   ]
  },
  {
   "cell_type": "code",
   "execution_count": 48,
   "id": "c4e87881",
   "metadata": {},
   "outputs": [
    {
     "name": "stdout",
     "output_type": "stream",
     "text": [
      "['1', 1, 'harsh', <built-in function print>, None, 'Hello', ['1', 1, 'harsh', <built-in function print>, None], ['1', 1, 'harsh', <built-in function print>, None, 'Hello']]\n",
      "['1', 1, 'harsh', <built-in function print>, None, '1', 1, 'harsh', <built-in function print>, None, 'Hello']\n"
     ]
    },
    {
     "data": {
      "text/plain": [
       "'Hello'"
      ]
     },
     "execution_count": 48,
     "metadata": {},
     "output_type": "execute_result"
    }
   ],
   "source": [
    "to_pop(student,-1)"
   ]
  },
  {
   "cell_type": "code",
   "execution_count": 49,
   "id": "d421d62c",
   "metadata": {},
   "outputs": [
    {
     "data": {
      "text/plain": [
       "['1',\n",
       " 1,\n",
       " 'harsh',\n",
       " <function print(*args, sep=' ', end='\\n', file=None, flush=False)>,\n",
       " None,\n",
       " 'Hello',\n",
       " ['1',\n",
       "  1,\n",
       "  'harsh',\n",
       "  <function print(*args, sep=' ', end='\\n', file=None, flush=False)>,\n",
       "  None],\n",
       " ['1',\n",
       "  1,\n",
       "  'harsh',\n",
       "  <function print(*args, sep=' ', end='\\n', file=None, flush=False)>,\n",
       "  None,\n",
       "  'Hello']]"
      ]
     },
     "execution_count": 49,
     "metadata": {},
     "output_type": "execute_result"
    }
   ],
   "source": [
    "student"
   ]
  },
  {
   "cell_type": "code",
   "execution_count": 50,
   "id": "7fa12cf9",
   "metadata": {},
   "outputs": [],
   "source": [
    "student.reverse()"
   ]
  },
  {
   "cell_type": "code",
   "execution_count": 51,
   "id": "1618f661",
   "metadata": {},
   "outputs": [
    {
     "data": {
      "text/plain": [
       "[['1',\n",
       "  1,\n",
       "  'harsh',\n",
       "  <function print(*args, sep=' ', end='\\n', file=None, flush=False)>,\n",
       "  None,\n",
       "  'Hello'],\n",
       " ['1',\n",
       "  1,\n",
       "  'harsh',\n",
       "  <function print(*args, sep=' ', end='\\n', file=None, flush=False)>,\n",
       "  None],\n",
       " 'Hello',\n",
       " None,\n",
       " <function print(*args, sep=' ', end='\\n', file=None, flush=False)>,\n",
       " 'harsh',\n",
       " 1,\n",
       " '1']"
      ]
     },
     "execution_count": 51,
     "metadata": {},
     "output_type": "execute_result"
    }
   ],
   "source": [
    "student"
   ]
  },
  {
   "cell_type": "code",
   "execution_count": 135,
   "id": "4b9e2bcc",
   "metadata": {},
   "outputs": [
    {
     "name": "stdout",
     "output_type": "stream",
     "text": [
      "[5, 4, 3, 2, 1]\n"
     ]
    }
   ],
   "source": [
    "my_list = [1, 2, 3, 4, 5]\n",
    "my_list = my_list[::-1]\n",
    "print(my_list)"
   ]
  },
  {
   "cell_type": "code",
   "execution_count": 53,
   "id": "54901267",
   "metadata": {},
   "outputs": [
    {
     "name": "stdout",
     "output_type": "stream",
     "text": [
      "[5, 4, 3, 2, 1]\n"
     ]
    }
   ],
   "source": [
    "def reverse_list(input_list):\n",
    "    length = len(input_list)\n",
    "    reversed_list = []\n",
    "\n",
    "    for i in range(length - 1, -1, -1):\n",
    "        reversed_list.append(input_list[i])\n",
    "\n",
    "    return reversed_list\n",
    "\n",
    "# Example usage\n",
    "my_list = [1, 2, 3, 4, 5]\n",
    "reversed_list = reverse_list(my_list)\n",
    "print(reversed_list)"
   ]
  },
  {
   "cell_type": "code",
   "execution_count": 54,
   "id": "119fc708",
   "metadata": {},
   "outputs": [
    {
     "name": "stdout",
     "output_type": "stream",
     "text": [
      "[5, 4, 3, 2, 1]\n"
     ]
    }
   ],
   "source": [
    "def reverse_list_in_place(input_list):\n",
    "    length = len(input_list)\n",
    "    for i in range(length // 2):\n",
    "        input_list[i], input_list[length - 1 - i] = input_list[length - 1 - i], input_list[i]\n",
    "\n",
    "my_list = [1, 2, 3, 4, 5]\n",
    "reverse_list_in_place(my_list)\n",
    "print(my_list)"
   ]
  },
  {
   "cell_type": "code",
   "execution_count": 55,
   "id": "855dcc2a",
   "metadata": {},
   "outputs": [],
   "source": [
    "#tupples\n"
   ]
  },
  {
   "cell_type": "code",
   "execution_count": 56,
   "id": "375a1c99",
   "metadata": {},
   "outputs": [],
   "source": [
    "tup = (1,2,3,'4',5)"
   ]
  },
  {
   "cell_type": "code",
   "execution_count": 57,
   "id": "616c4f98",
   "metadata": {},
   "outputs": [
    {
     "name": "stdout",
     "output_type": "stream",
     "text": [
      "1\n",
      "2\n",
      "3\n",
      "4\n",
      "5\n"
     ]
    }
   ],
   "source": [
    "for i in tup:\n",
    "    print(i)"
   ]
  },
  {
   "cell_type": "code",
   "execution_count": 59,
   "id": "1d5fedd4",
   "metadata": {},
   "outputs": [
    {
     "name": "stdout",
     "output_type": "stream",
     "text": [
      "[1, 2, 3, '4', 5]\n"
     ]
    }
   ],
   "source": [
    "print(list(tup))"
   ]
  },
  {
   "cell_type": "code",
   "execution_count": 77,
   "id": "2ae06e87",
   "metadata": {},
   "outputs": [
    {
     "name": "stdout",
     "output_type": "stream",
     "text": [
      "(1, 2, 3, '4', 5, 'Hello', 'Hello')\n"
     ]
    }
   ],
   "source": [
    "tup = list(tup)\n",
    "tup.append(\"Hello\")\n",
    "tup = tuple(tup)\n",
    "print(tup)"
   ]
  },
  {
   "cell_type": "markdown",
   "id": "9d076fc4",
   "metadata": {},
   "source": [
    "# Dictionary"
   ]
  },
  {
   "cell_type": "code",
   "execution_count": 98,
   "id": "98539ac1",
   "metadata": {},
   "outputs": [],
   "source": [
    "dictionary = {\n",
    "    '1': 'The first number of whole numbers',\n",
    "    2: 'The number 2',\n",
    "    3: True,\n",
    "    4: print,\n",
    "    'd': {\n",
    "        1: 'One',\n",
    "        2: 'Two',\n",
    "        3: 'Three'\n",
    "    }\n",
    "}\n"
   ]
  },
  {
   "cell_type": "code",
   "execution_count": 79,
   "id": "bb888fe9",
   "metadata": {},
   "outputs": [
    {
     "data": {
      "text/plain": [
       "{'1': 'The first number of whole numbers ',\n",
       " 2: 'The number 2',\n",
       " 3: True,\n",
       " 4: <function print(*args, sep=' ', end='\\n', file=None, flush=False)>}"
      ]
     },
     "execution_count": 79,
     "metadata": {},
     "output_type": "execute_result"
    }
   ],
   "source": [
    "dictionary"
   ]
  },
  {
   "cell_type": "code",
   "execution_count": 80,
   "id": "35c46178",
   "metadata": {},
   "outputs": [
    {
     "name": "stdout",
     "output_type": "stream",
     "text": [
      "Hello\n"
     ]
    }
   ],
   "source": [
    "dictionary[4]('Hello')"
   ]
  },
  {
   "cell_type": "code",
   "execution_count": 83,
   "id": "fa8f2e2e",
   "metadata": {},
   "outputs": [
    {
     "data": {
      "text/plain": [
       "{'1': 'The first number of whole numbers ',\n",
       " 2: 'The number 2',\n",
       " 3: True,\n",
       " 4: <function print(*args, sep=' ', end='\\n', file=None, flush=False)>}"
      ]
     },
     "execution_count": 83,
     "metadata": {},
     "output_type": "execute_result"
    }
   ],
   "source": [
    "dictionary"
   ]
  },
  {
   "cell_type": "code",
   "execution_count": 82,
   "id": "5726cd60",
   "metadata": {},
   "outputs": [
    {
     "data": {
      "text/plain": [
       "dict_values(['The first number of whole numbers ', 'The number 2', True, <built-in function print>])"
      ]
     },
     "execution_count": 82,
     "metadata": {},
     "output_type": "execute_result"
    }
   ],
   "source": [
    "dictionary.values()"
   ]
  },
  {
   "cell_type": "code",
   "execution_count": 84,
   "id": "efdc2c9f",
   "metadata": {},
   "outputs": [],
   "source": [
    "#write a code to print dictinary in key value pairs"
   ]
  },
  {
   "cell_type": "code",
   "execution_count": 86,
   "id": "baad35fb",
   "metadata": {},
   "outputs": [
    {
     "data": {
      "text/plain": [
       "dict_items([('1', 'The first number of whole numbers '), (2, 'The number 2'), (3, True), (4, <built-in function print>)])"
      ]
     },
     "execution_count": 86,
     "metadata": {},
     "output_type": "execute_result"
    }
   ],
   "source": [
    "dictionary.items()"
   ]
  },
  {
   "cell_type": "code",
   "execution_count": 99,
   "id": "a1f095e5",
   "metadata": {},
   "outputs": [
    {
     "ename": "AttributeError",
     "evalue": "'dict' object has no attribute 'd'",
     "output_type": "error",
     "traceback": [
      "\u001b[1;31m---------------------------------------------------------------------------\u001b[0m",
      "\u001b[1;31mAttributeError\u001b[0m                            Traceback (most recent call last)",
      "Cell \u001b[1;32mIn[99], line 1\u001b[0m\n\u001b[1;32m----> 1\u001b[0m dictionary\u001b[38;5;241m.\u001b[39md\u001b[38;5;241m.\u001b[39mvalues()\n",
      "\u001b[1;31mAttributeError\u001b[0m: 'dict' object has no attribute 'd'"
     ]
    }
   ],
   "source": [
    "dictionary.d.values()"
   ]
  },
  {
   "cell_type": "code",
   "execution_count": 88,
   "id": "752d6914",
   "metadata": {},
   "outputs": [],
   "source": [
    "from pprint import pprint"
   ]
  },
  {
   "cell_type": "code",
   "execution_count": 100,
   "id": "aaef12d0",
   "metadata": {},
   "outputs": [
    {
     "name": "stdout",
     "output_type": "stream",
     "text": [
      "{2: 'The number 2',\n",
      " 3: True,\n",
      " 4: <built-in function print>,\n",
      " '1': 'The first number of whole numbers',\n",
      " 'd': {1: 'One', 2: 'Two', 3: 'Three'}}\n"
     ]
    }
   ],
   "source": [
    "pprint(dict(dictionary))"
   ]
  },
  {
   "cell_type": "code",
   "execution_count": 95,
   "id": "4563bef1",
   "metadata": {},
   "outputs": [
    {
     "name": "stdout",
     "output_type": "stream",
     "text": [
      "{'1': 'The first number of whole numbers ', 2: 'The number 2', 3: True, 4: <built-in function print>}\n"
     ]
    }
   ],
   "source": [
    "\n",
    "if type(dictionary) == dict:\n",
    "    print(dictionary)"
   ]
  },
  {
   "cell_type": "code",
   "execution_count": 108,
   "id": "8f5f0d52",
   "metadata": {},
   "outputs": [
    {
     "name": "stdout",
     "output_type": "stream",
     "text": [
      "('1', 'The first number of whole numbers')\n",
      "(2, 'The number 2')\n",
      "(3, True)\n",
      "(4, <built-in function print>)\n",
      "('nested_dict', {1: 'One', 2: 'Two', 3: 'Three'})\n"
     ]
    },
    {
     "ename": "TypeError",
     "evalue": "'int' object is not subscriptable",
     "output_type": "error",
     "traceback": [
      "\u001b[1;31m---------------------------------------------------------------------------\u001b[0m",
      "\u001b[1;31mTypeError\u001b[0m                                 Traceback (most recent call last)",
      "Cell \u001b[1;32mIn[108], line 5\u001b[0m\n\u001b[0;32m      3\u001b[0m \u001b[38;5;28;01mif\u001b[39;00m \u001b[38;5;28mtype\u001b[39m(i[\u001b[38;5;241m1\u001b[39m]) \u001b[38;5;241m==\u001b[39m \u001b[38;5;28mdict\u001b[39m:\n\u001b[0;32m      4\u001b[0m     \u001b[38;5;28;01mfor\u001b[39;00m i \u001b[38;5;129;01min\u001b[39;00m i[\u001b[38;5;241m1\u001b[39m]:\n\u001b[1;32m----> 5\u001b[0m         values\u001b[38;5;241m.\u001b[39mappend(i[\u001b[38;5;241m1\u001b[39m][j])\n\u001b[0;32m      6\u001b[0m     \u001b[38;5;28;01mcontinue\u001b[39;00m\n\u001b[0;32m      7\u001b[0m \u001b[38;5;28;01melse\u001b[39;00m:\n",
      "\u001b[1;31mTypeError\u001b[0m: 'int' object is not subscriptable"
     ]
    }
   ],
   "source": [
    "for i in dictionary.items():\n",
    "    print(i)\n",
    "    if type(i[1]) == dict:\n",
    "        for i in i[1]:\n",
    "            values.append(i[1][j])\n",
    "        continue\n",
    "    else:\n",
    "        values.append(i[1])\n"
   ]
  },
  {
   "cell_type": "code",
   "execution_count": 107,
   "id": "6e0a75ca",
   "metadata": {},
   "outputs": [
    {
     "name": "stdout",
     "output_type": "stream",
     "text": [
      "1 The first number of whole numbers\n",
      "2 The number 2\n",
      "3 True\n",
      "4 <built-in function print>\n",
      "nested_dict {1: 'One', 2: 'Two', 3: 'Three'}\n",
      "['The first number of whole numbers', 'The number 2', True, <built-in function print>, 'One', 'Two', 'Three']\n"
     ]
    }
   ],
   "source": [
    "values = []\n",
    "dictionary = {\n",
    "    '1': 'The first number of whole numbers',\n",
    "    2: 'The number 2',\n",
    "    3: True,\n",
    "    4: print,\n",
    "    'nested_dict': {\n",
    "        1: 'One',\n",
    "        2: 'Two',\n",
    "        3: 'Three'\n",
    "    }\n",
    "}\n",
    "\n",
    "for key, value in dictionary.items():\n",
    "    print(key, value)\n",
    "    if isinstance(value, dict):\n",
    "        for nested_key, nested_value in value.items():\n",
    "            values.append(nested_value)\n",
    "    else:\n",
    "        values.append(value)\n",
    "\n",
    "print(values)"
   ]
  },
  {
   "cell_type": "markdown",
   "id": "b177f384",
   "metadata": {},
   "source": [
    "# Sets"
   ]
  },
  {
   "cell_type": "code",
   "execution_count": 109,
   "id": "bd5b64d8",
   "metadata": {},
   "outputs": [],
   "source": [
    "a = {1,2,3,4,5,6,7,8}"
   ]
  },
  {
   "cell_type": "code",
   "execution_count": 110,
   "id": "005233ae",
   "metadata": {},
   "outputs": [],
   "source": [
    "b={9,8,7,6,5,4,3}"
   ]
  },
  {
   "cell_type": "code",
   "execution_count": 111,
   "id": "7f90a96a",
   "metadata": {},
   "outputs": [
    {
     "name": "stdout",
     "output_type": "stream",
     "text": [
      "{1, 2, 3, 4, 5, 6, 7, 8, 9}\n"
     ]
    }
   ],
   "source": [
    "print(set(a).union(set(b)))"
   ]
  },
  {
   "cell_type": "code",
   "execution_count": 112,
   "id": "d75c8502",
   "metadata": {},
   "outputs": [
    {
     "name": "stdout",
     "output_type": "stream",
     "text": [
      "{3, 4, 5, 6, 7, 8}\n"
     ]
    }
   ],
   "source": [
    "print(set(a).intersection(set(b)))"
   ]
  },
  {
   "cell_type": "markdown",
   "id": "b2eb61c4",
   "metadata": {},
   "source": [
    "# Args and Kwargs"
   ]
  },
  {
   "cell_type": "code",
   "execution_count": 129,
   "id": "acf90ba7",
   "metadata": {},
   "outputs": [],
   "source": [
    "def adder(a, b, *args):\n",
    "    a=a+b\n",
    "    print(args)\n",
    "    for i in args:\n",
    "        a+=i\n",
    "        \n",
    "    print(a)"
   ]
  },
  {
   "cell_type": "code",
   "execution_count": 130,
   "id": "9d8ec984",
   "metadata": {},
   "outputs": [
    {
     "name": "stdout",
     "output_type": "stream",
     "text": [
      "(3, 4, 5, 6)\n",
      "21\n"
     ]
    }
   ],
   "source": [
    "adder(1, 2, 3, 4, 5, 6)"
   ]
  },
  {
   "cell_type": "code",
   "execution_count": 115,
   "id": "4ddedf6d",
   "metadata": {},
   "outputs": [],
   "source": [
    "#The case where we don't know the number positional arguments we need to specify that whether we need further arguments or not and it is defined by *args"
   ]
  },
  {
   "cell_type": "code",
   "execution_count": 133,
   "id": "f2f4ee0e",
   "metadata": {},
   "outputs": [],
   "source": [
    "def adder(a, b, *args,**kwargs):\n",
    "    a=a+b\n",
    "    print(args)\n",
    "    print(kwargs)\n",
    "    for i in args:\n",
    "        a+=i\n",
    "        \n",
    "    print(a)"
   ]
  },
  {
   "cell_type": "code",
   "execution_count": 134,
   "id": "40f473a3",
   "metadata": {},
   "outputs": [
    {
     "name": "stdout",
     "output_type": "stream",
     "text": [
      "(3, 4, 5, 6, 7, 8)\n",
      "{'name': 'adder function', 'functionality': 'add'}\n",
      "36\n"
     ]
    }
   ],
   "source": [
    "adder(1,2,3,4,5,6,7,8,name='adder function',functionality = 'add')"
   ]
  },
  {
   "cell_type": "markdown",
   "id": "03354dab",
   "metadata": {},
   "source": [
    "3rd sept 2023"
   ]
  },
  {
   "cell_type": "markdown",
   "id": "a38add16",
   "metadata": {},
   "source": [
    "# Classes & Objects"
   ]
  },
  {
   "cell_type": "code",
   "execution_count": 1,
   "id": "ca769a4c",
   "metadata": {},
   "outputs": [],
   "source": [
    "#self depicts the argument passed "
   ]
  },
  {
   "cell_type": "code",
   "execution_count": 2,
   "id": "b0d6c4e7",
   "metadata": {},
   "outputs": [],
   "source": [
    "class Students:\n",
    "    course_name = 'Data Science'\n",
    "    mentee = 'Harshvir'\n",
    "    \n",
    "    def hello(self):\n",
    "        print('Hello this is harsh')\n",
    "        \n",
    "    def hi(self):\n",
    "        print('I have some fruits')\n",
    "    "
   ]
  },
  {
   "cell_type": "code",
   "execution_count": 3,
   "id": "915540c0",
   "metadata": {},
   "outputs": [
    {
     "data": {
      "text/plain": [
       "'0b1111011'"
      ]
     },
     "execution_count": 3,
     "metadata": {},
     "output_type": "execute_result"
    }
   ],
   "source": [
    "bin(123)"
   ]
  },
  {
   "cell_type": "code",
   "execution_count": 18,
   "id": "4bdd22bd",
   "metadata": {},
   "outputs": [],
   "source": [
    "class Person:\n",
    "    name = 'HARSHVIR'\n",
    "    age = '23'\n",
    "    \n",
    "    \n",
    "    def reveal(self):\n",
    "        print(f'Name is:{self.name} and age is {self.age}')\n",
    "        \n",
    "    def modify(self):\n",
    "        self.name = input('enter name')\n",
    "        print(f'Name is : {self.name} and age is {self.age}')\n",
    "    "
   ]
  },
  {
   "cell_type": "code",
   "execution_count": 19,
   "id": "f2272955",
   "metadata": {},
   "outputs": [],
   "source": [
    "p = Person()"
   ]
  },
  {
   "cell_type": "code",
   "execution_count": 20,
   "id": "a00d14e3",
   "metadata": {},
   "outputs": [
    {
     "name": "stdout",
     "output_type": "stream",
     "text": [
      "Name is:HARSHVIR and age is 23\n"
     ]
    }
   ],
   "source": [
    "p.reveal()"
   ]
  },
  {
   "cell_type": "code",
   "execution_count": 21,
   "id": "36671035",
   "metadata": {},
   "outputs": [],
   "source": [
    "p1 = Person()"
   ]
  },
  {
   "cell_type": "code",
   "execution_count": 22,
   "id": "41237889",
   "metadata": {},
   "outputs": [
    {
     "data": {
      "text/plain": [
       "'HARSHVIR'"
      ]
     },
     "execution_count": 22,
     "metadata": {},
     "output_type": "execute_result"
    }
   ],
   "source": [
    "p.name"
   ]
  },
  {
   "cell_type": "code",
   "execution_count": 23,
   "id": "91ec64b7",
   "metadata": {},
   "outputs": [
    {
     "data": {
      "text/plain": [
       "'HARSHVIR'"
      ]
     },
     "execution_count": 23,
     "metadata": {},
     "output_type": "execute_result"
    }
   ],
   "source": [
    "p1.name"
   ]
  },
  {
   "cell_type": "code",
   "execution_count": 24,
   "id": "f70ff7d2",
   "metadata": {},
   "outputs": [
    {
     "name": "stdout",
     "output_type": "stream",
     "text": [
      "enter namejohny\n",
      "Name is : johny and age is 23\n"
     ]
    }
   ],
   "source": [
    "p1.modify()"
   ]
  },
  {
   "cell_type": "code",
   "execution_count": 25,
   "id": "055aaa95",
   "metadata": {},
   "outputs": [
    {
     "data": {
      "text/plain": [
       "'johny'"
      ]
     },
     "execution_count": 25,
     "metadata": {},
     "output_type": "execute_result"
    }
   ],
   "source": [
    "p1.name"
   ]
  },
  {
   "cell_type": "code",
   "execution_count": 26,
   "id": "2ccdcded",
   "metadata": {},
   "outputs": [],
   "source": [
    "p1.name = 'harsh'"
   ]
  },
  {
   "cell_type": "code",
   "execution_count": 27,
   "id": "ea11d6f2",
   "metadata": {},
   "outputs": [
    {
     "name": "stdout",
     "output_type": "stream",
     "text": [
      "harsh\n"
     ]
    }
   ],
   "source": [
    "print(p1.name)"
   ]
  },
  {
   "cell_type": "markdown",
   "id": "d72bd718",
   "metadata": {},
   "source": [
    "# Dunder functions (Constructors)/Magic functions"
   ]
  },
  {
   "cell_type": "code",
   "execution_count": 33,
   "id": "9519a7a1",
   "metadata": {},
   "outputs": [],
   "source": [
    "class Person:\n",
    "    \n",
    "    living = True\n",
    "    \n",
    "    def __init__(self,name,age):\n",
    "        self.name = name\n",
    "        self.age = age\n",
    "        print('Init Chala gya')\n",
    "        \n",
    "        \n",
    "    def reveal(self):\n",
    "        print(f'Name is: {self.name} and age is {self.age}')\n",
    "        \n",
    "    def update(self, name):\n",
    "        self.name = name\n",
    "        print(f'Name is: {self.name} and age is {self.age}')\n",
    "  "
   ]
  },
  {
   "cell_type": "code",
   "execution_count": 34,
   "id": "e47a54df",
   "metadata": {},
   "outputs": [
    {
     "name": "stdout",
     "output_type": "stream",
     "text": [
      "Init Chala gya\n"
     ]
    }
   ],
   "source": [
    "p1 = Person('Harshvir',24)"
   ]
  },
  {
   "cell_type": "code",
   "execution_count": 35,
   "id": "db69f84f",
   "metadata": {},
   "outputs": [
    {
     "name": "stdout",
     "output_type": "stream",
     "text": [
      "Name is: Harshvir and age is 24\n"
     ]
    }
   ],
   "source": [
    "p1.reveal()"
   ]
  },
  {
   "cell_type": "code",
   "execution_count": 37,
   "id": "3731779c",
   "metadata": {},
   "outputs": [
    {
     "name": "stdout",
     "output_type": "stream",
     "text": [
      "Init Chala gya\n"
     ]
    }
   ],
   "source": [
    "p2 = Person(\"Mohit\",22)"
   ]
  },
  {
   "cell_type": "code",
   "execution_count": 38,
   "id": "717de76d",
   "metadata": {},
   "outputs": [
    {
     "data": {
      "text/plain": [
       "('Mohit', 'Harshvir')"
      ]
     },
     "execution_count": 38,
     "metadata": {},
     "output_type": "execute_result"
    }
   ],
   "source": [
    "p2.name,p1.name"
   ]
  },
  {
   "cell_type": "code",
   "execution_count": 39,
   "id": "2d8dddc2",
   "metadata": {},
   "outputs": [
    {
     "data": {
      "text/plain": [
       "True"
      ]
     },
     "execution_count": 39,
     "metadata": {},
     "output_type": "execute_result"
    }
   ],
   "source": [
    "p2.living "
   ]
  },
  {
   "cell_type": "code",
   "execution_count": 40,
   "id": "cf6bc7f5",
   "metadata": {},
   "outputs": [
    {
     "data": {
      "text/plain": [
       "True"
      ]
     },
     "execution_count": 40,
     "metadata": {},
     "output_type": "execute_result"
    }
   ],
   "source": [
    "p1.living"
   ]
  },
  {
   "cell_type": "code",
   "execution_count": 41,
   "id": "474a3814",
   "metadata": {},
   "outputs": [
    {
     "data": {
      "text/plain": [
       "(140713585814048, 140713585814048)"
      ]
     },
     "execution_count": 41,
     "metadata": {},
     "output_type": "execute_result"
    }
   ],
   "source": [
    "id(p1.living), id(p2.living)"
   ]
  },
  {
   "cell_type": "code",
   "execution_count": 42,
   "id": "c20c6c71",
   "metadata": {},
   "outputs": [],
   "source": [
    "#attributes are of 2 types\n",
    "#1> class attribute\n",
    "#2> object attribute"
   ]
  },
  {
   "cell_type": "code",
   "execution_count": 43,
   "id": "7d705567",
   "metadata": {},
   "outputs": [
    {
     "data": {
      "text/plain": [
       "(2713919484208, 2713919554992)"
      ]
     },
     "execution_count": 43,
     "metadata": {},
     "output_type": "execute_result"
    }
   ],
   "source": [
    "id(p1.name), id(p2.name)"
   ]
  },
  {
   "cell_type": "code",
   "execution_count": 44,
   "id": "9c49909c",
   "metadata": {},
   "outputs": [
    {
     "name": "stdout",
     "output_type": "stream",
     "text": [
      "True\n"
     ]
    }
   ],
   "source": [
    "print(p2.living)"
   ]
  },
  {
   "cell_type": "code",
   "execution_count": 47,
   "id": "ee2840eb",
   "metadata": {},
   "outputs": [],
   "source": [
    "p1.living = False"
   ]
  },
  {
   "cell_type": "code",
   "execution_count": 48,
   "id": "0d661360",
   "metadata": {},
   "outputs": [
    {
     "name": "stdout",
     "output_type": "stream",
     "text": [
      "False\n"
     ]
    }
   ],
   "source": [
    "print(p1.living)"
   ]
  },
  {
   "cell_type": "markdown",
   "id": "3a32fc4c",
   "metadata": {},
   "source": []
  },
  {
   "cell_type": "code",
   "execution_count": 49,
   "id": "d40dc90b",
   "metadata": {},
   "outputs": [],
   "source": [
    "a=10\n",
    "b=10\n"
   ]
  },
  {
   "cell_type": "code",
   "execution_count": 50,
   "id": "a7c95b7e",
   "metadata": {},
   "outputs": [
    {
     "data": {
      "text/plain": [
       "True"
      ]
     },
     "execution_count": 50,
     "metadata": {},
     "output_type": "execute_result"
    }
   ],
   "source": [
    "id(a)==id(b)"
   ]
  },
  {
   "cell_type": "markdown",
   "id": "ae6aa444",
   "metadata": {},
   "source": [
    "# Access Modifiers"
   ]
  },
  {
   "cell_type": "code",
   "execution_count": 93,
   "id": "4e1f4472",
   "metadata": {},
   "outputs": [],
   "source": [
    "class Abhijeet:\n",
    "    \n",
    "    def __init__(self,email,password,name):\n",
    "        self._email = email\n",
    "        self.__password= password\n",
    "        self.name = name\n",
    "        \n",
    "    def change_mail(self,mail):\n",
    "        self._email = mail    \n",
    "        \n",
    "    def change_pass(self,new_password):\n",
    "        self.__password = new_password\n",
    "        \n",
    "    def __see_password(self,authen):\n",
    "        if authen == self.authen:\n",
    "            print(self.password)\n",
    "            \n",
    "    def __change_authen(self,new_authen):\n",
    "        self.authen = new.authen"
   ]
  },
  {
   "cell_type": "code",
   "execution_count": 94,
   "id": "bf5e67ee",
   "metadata": {},
   "outputs": [],
   "source": [
    "a=Abhijeet('abc@gmail.com',1234,'Harshvir')"
   ]
  },
  {
   "cell_type": "code",
   "execution_count": 95,
   "id": "dced4b3d",
   "metadata": {},
   "outputs": [
    {
     "data": {
      "text/plain": [
       "'abc@gmail.com'"
      ]
     },
     "execution_count": 95,
     "metadata": {},
     "output_type": "execute_result"
    }
   ],
   "source": [
    "a._email"
   ]
  },
  {
   "cell_type": "code",
   "execution_count": 96,
   "id": "31da1783",
   "metadata": {},
   "outputs": [
    {
     "data": {
      "text/plain": [
       "'Harshvir'"
      ]
     },
     "execution_count": 96,
     "metadata": {},
     "output_type": "execute_result"
    }
   ],
   "source": [
    "a.name"
   ]
  },
  {
   "cell_type": "code",
   "execution_count": 97,
   "id": "c08d671b",
   "metadata": {},
   "outputs": [],
   "source": [
    "a._email = 'hello@gmail.com'"
   ]
  },
  {
   "cell_type": "code",
   "execution_count": 98,
   "id": "7e4a11f9",
   "metadata": {},
   "outputs": [
    {
     "data": {
      "text/plain": [
       "'hello@gmail.com'"
      ]
     },
     "execution_count": 98,
     "metadata": {},
     "output_type": "execute_result"
    }
   ],
   "source": [
    "a._email"
   ]
  },
  {
   "cell_type": "code",
   "execution_count": 99,
   "id": "58120ca2",
   "metadata": {},
   "outputs": [],
   "source": [
    "a.change_mail('123@gmail.com')"
   ]
  },
  {
   "cell_type": "code",
   "execution_count": 100,
   "id": "4195b500",
   "metadata": {},
   "outputs": [
    {
     "data": {
      "text/plain": [
       "'123@gmail.com'"
      ]
     },
     "execution_count": 100,
     "metadata": {},
     "output_type": "execute_result"
    }
   ],
   "source": [
    "a._email"
   ]
  },
  {
   "cell_type": "code",
   "execution_count": 102,
   "id": "efff72c5",
   "metadata": {},
   "outputs": [
    {
     "ename": "AttributeError",
     "evalue": "'Abhijeet' object has no attribute '__see_password'",
     "output_type": "error",
     "traceback": [
      "\u001b[1;31m---------------------------------------------------------------------------\u001b[0m",
      "\u001b[1;31mAttributeError\u001b[0m                            Traceback (most recent call last)",
      "Cell \u001b[1;32mIn[102], line 1\u001b[0m\n\u001b[1;32m----> 1\u001b[0m a\u001b[38;5;241m.\u001b[39m__see_password(\u001b[38;5;124m'\u001b[39m\u001b[38;5;124m123456789\u001b[39m\u001b[38;5;124m'\u001b[39m)\n",
      "\u001b[1;31mAttributeError\u001b[0m: 'Abhijeet' object has no attribute '__see_password'"
     ]
    }
   ],
   "source": []
  },
  {
   "cell_type": "code",
   "execution_count": 107,
   "id": "686cb6c9",
   "metadata": {},
   "outputs": [],
   "source": [
    "class Dog:\n",
    "    \n",
    "    def __init_(self,name, breed):\n",
    "        self.name = name\n",
    "        self.breed = breed\n",
    "        \n",
    "    def trick(self):\n",
    "        print('fetch')\n",
    "        print('attack')\n",
    "        print('wiggle')\n",
    "        print('run')"
   ]
  },
  {
   "cell_type": "code",
   "execution_count": 109,
   "id": "6484f95f",
   "metadata": {},
   "outputs": [
    {
     "ename": "TypeError",
     "evalue": "Dog() takes no arguments",
     "output_type": "error",
     "traceback": [
      "\u001b[1;31m---------------------------------------------------------------------------\u001b[0m",
      "\u001b[1;31mTypeError\u001b[0m                                 Traceback (most recent call last)",
      "Cell \u001b[1;32mIn[109], line 1\u001b[0m\n\u001b[1;32m----> 1\u001b[0m f1 \u001b[38;5;241m=\u001b[39m Dog(\u001b[38;5;124m'\u001b[39m\u001b[38;5;124mHurata\u001b[39m\u001b[38;5;124m'\u001b[39m,\u001b[38;5;124m'\u001b[39m\u001b[38;5;124mGerman shephard\u001b[39m\u001b[38;5;124m'\u001b[39m)\n",
      "\u001b[1;31mTypeError\u001b[0m: Dog() takes no arguments"
     ]
    }
   ],
   "source": [
    "f1 = Dog('Hurata','German shephard')"
   ]
  },
  {
   "cell_type": "code",
   "execution_count": 115,
   "id": "305ff1b9",
   "metadata": {},
   "outputs": [],
   "source": [
    "class Dog:\n",
    "    \n",
    "    def __init__(self, name, breed):\n",
    "        self.name = name\n",
    "        self.breed = breed\n",
    "        \n",
    "    def trick(self):\n",
    "        print('1.fetch')\n",
    "        print('2.attack')\n",
    "        print('3.wiggle')\n",
    "        print('4.run')\n"
   ]
  },
  {
   "cell_type": "code",
   "execution_count": 116,
   "id": "4a9ea126",
   "metadata": {},
   "outputs": [],
   "source": [
    "f1 = Dog('Hurata', 'German shepherd')\n"
   ]
  },
  {
   "cell_type": "code",
   "execution_count": 117,
   "id": "e27107c6",
   "metadata": {},
   "outputs": [
    {
     "name": "stdout",
     "output_type": "stream",
     "text": [
      "1.fetch\n",
      "2.attack\n",
      "3.wiggle\n",
      "4.run\n"
     ]
    }
   ],
   "source": [
    "f1.trick()"
   ]
  },
  {
   "cell_type": "code",
   "execution_count": 118,
   "id": "36e0dc2e",
   "metadata": {},
   "outputs": [
    {
     "data": {
      "text/plain": [
       "'Hurata'"
      ]
     },
     "execution_count": 118,
     "metadata": {},
     "output_type": "execute_result"
    }
   ],
   "source": [
    "f1.name"
   ]
  },
  {
   "cell_type": "code",
   "execution_count": 114,
   "id": "01c5e6a7",
   "metadata": {},
   "outputs": [
    {
     "data": {
      "text/plain": [
       "'German shepherd'"
      ]
     },
     "execution_count": 114,
     "metadata": {},
     "output_type": "execute_result"
    }
   ],
   "source": [
    "f1.breed"
   ]
  },
  {
   "cell_type": "code",
   "execution_count": 119,
   "id": "1f79429f",
   "metadata": {},
   "outputs": [],
   "source": [
    "class Dogs:\n",
    "    total_tricks = []\n",
    "    \n",
    "    def __init__(self,name,breed):\n",
    "        self.name = name\n",
    "        self.breed = breed\n",
    "    \n",
    "    def update_tricks(self,trick):\n",
    "        self.total_tricks.append(trick)\n",
    "        \n",
    "    def display(self):\n",
    "        print(self.total_tricks)"
   ]
  },
  {
   "cell_type": "code",
   "execution_count": 121,
   "id": "4d552825",
   "metadata": {},
   "outputs": [],
   "source": [
    "a = Dogs('shishimanu','labra')\n",
    "b = Dogs('kalu','german shephard')"
   ]
  },
  {
   "cell_type": "code",
   "execution_count": 125,
   "id": "93042edf",
   "metadata": {},
   "outputs": [],
   "source": [
    "a.update_tricks('sing')\n",
    "a.update_tricks('fetch')\n",
    "a.update_tricks('dance')"
   ]
  },
  {
   "cell_type": "code",
   "execution_count": 126,
   "id": "15244c61",
   "metadata": {},
   "outputs": [
    {
     "name": "stdout",
     "output_type": "stream",
     "text": [
      "['sing', 'sing', 'sing', 'sing', 'sing', 'fetch', 'dance']\n"
     ]
    }
   ],
   "source": [
    "b.display()"
   ]
  },
  {
   "cell_type": "code",
   "execution_count": 143,
   "id": "91313be8",
   "metadata": {},
   "outputs": [],
   "source": [
    "class Dogs:\n",
    "    #total_tricks = []\n",
    "    \n",
    "    def __init__(self,name,breed):\n",
    "        self.name = name\n",
    "        self.breed = breed\n",
    "        self.total_tricks = []\n",
    "    \n",
    "    def update_tricks(self,trick):\n",
    "        self.total_tricks.append(trick)\n",
    "        \n",
    "    def display(self):\n",
    "        print(self.total_tricks)"
   ]
  },
  {
   "cell_type": "code",
   "execution_count": 144,
   "id": "cbbed7e7",
   "metadata": {},
   "outputs": [],
   "source": [
    "a = Dogs('Oreo','labra')\n",
    "b = Dogs('Tuffy','german_shephard')"
   ]
  },
  {
   "cell_type": "code",
   "execution_count": 145,
   "id": "60deef93",
   "metadata": {},
   "outputs": [],
   "source": [
    "a.update_tricks('sing')\n",
    "a.update_tricks('dance')\n",
    "a.update_tricks('hand shake')"
   ]
  },
  {
   "cell_type": "code",
   "execution_count": 146,
   "id": "1c0f25f0",
   "metadata": {},
   "outputs": [],
   "source": [
    "b.update_tricks('sit')"
   ]
  },
  {
   "cell_type": "code",
   "execution_count": 147,
   "id": "90f85a3a",
   "metadata": {},
   "outputs": [
    {
     "name": "stdout",
     "output_type": "stream",
     "text": [
      "['sit']\n"
     ]
    }
   ],
   "source": [
    "b.display()"
   ]
  },
  {
   "cell_type": "code",
   "execution_count": 1,
   "id": "51c223d7",
   "metadata": {},
   "outputs": [
    {
     "ename": "NameError",
     "evalue": "name 'a' is not defined",
     "output_type": "error",
     "traceback": [
      "\u001b[1;31m---------------------------------------------------------------------------\u001b[0m",
      "\u001b[1;31mNameError\u001b[0m                                 Traceback (most recent call last)",
      "Cell \u001b[1;32mIn[1], line 1\u001b[0m\n\u001b[1;32m----> 1\u001b[0m a\u001b[38;5;241m.\u001b[39mdisplay()\n",
      "\u001b[1;31mNameError\u001b[0m: name 'a' is not defined"
     ]
    }
   ],
   "source": [
    "a.display()"
   ]
  },
  {
   "cell_type": "code",
   "execution_count": null,
   "id": "6b15684b",
   "metadata": {},
   "outputs": [],
   "source": []
  }
 ],
 "metadata": {
  "kernelspec": {
   "display_name": "Python 3 (ipykernel)",
   "language": "python",
   "name": "python3"
  },
  "language_info": {
   "codemirror_mode": {
    "name": "ipython",
    "version": 3
   },
   "file_extension": ".py",
   "mimetype": "text/x-python",
   "name": "python",
   "nbconvert_exporter": "python",
   "pygments_lexer": "ipython3",
   "version": "3.11.3"
  }
 },
 "nbformat": 4,
 "nbformat_minor": 5
}
